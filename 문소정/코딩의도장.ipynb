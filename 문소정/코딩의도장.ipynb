{
  "nbformat": 4,
  "nbformat_minor": 0,
  "metadata": {
    "colab": {
      "name": "코딩의도장.ipynb",
      "provenance": [],
      "collapsed_sections": [],
      "authorship_tag": "ABX9TyM70hTU6AfOfKyleS14Y/N9",
      "include_colab_link": true
    },
    "kernelspec": {
      "name": "python3",
      "display_name": "Python 3"
    },
    "language_info": {
      "name": "python"
    }
  },
  "cells": [
    {
      "cell_type": "markdown",
      "metadata": {
        "id": "view-in-github",
        "colab_type": "text"
      },
      "source": [
        "<a href=\"https://colab.research.google.com/github/thwjd639/PythonMasterTeam1/blob/main/%EC%BD%94%EB%94%A9%EC%9D%98%EB%8F%84%EC%9E%A5.ipynb\" target=\"_parent\"><img src=\"https://colab.research.google.com/assets/colab-badge.svg\" alt=\"Open In Colab\"/></a>"
      ]
    },
    {
      "cell_type": "code",
      "source": [
        "!git clone https://github.com/thwjd639/PythonMasterTeam1.git"
      ],
      "metadata": {
        "colab": {
          "base_uri": "https://localhost:8080/"
        },
        "id": "mdtok3p-ctn2",
        "outputId": "61b769d3-2208-4cdd-c598-cbf269c06829"
      },
      "execution_count": 1,
      "outputs": [
        {
          "output_type": "stream",
          "name": "stdout",
          "text": [
            "Cloning into 'PythonMasterTeam1'...\n",
            "remote: Enumerating objects: 49, done.\u001b[K\n",
            "remote: Counting objects: 100% (49/49), done.\u001b[K\n",
            "remote: Compressing objects: 100% (37/37), done.\u001b[K\n",
            "remote: Total 49 (delta 16), reused 0 (delta 0), pack-reused 0\u001b[K\n",
            "Unpacking objects: 100% (49/49), done.\n"
          ]
        }
      ]
    },
    {
      "cell_type": "code",
      "source": [
        ""
      ],
      "metadata": {
        "id": "jjKG-WAAd9WF"
      },
      "execution_count": null,
      "outputs": []
    },
    {
      "cell_type": "markdown",
      "source": [
        "# 13. if 조건문\n",
        "- 특정 조건일 때 코드를 실행하는 문법\n",
        "- 분기(branch)를 위한 문법\n",
        "   + 분기 : 나뉘어서 갈라지는 것"
      ],
      "metadata": {
        "id": "ca0M1MwZAbm5"
      }
    },
    {
      "cell_type": "code",
      "execution_count": null,
      "metadata": {
        "colab": {
          "base_uri": "https://localhost:8080/"
        },
        "id": "bo9Obqpa7Nw6",
        "outputId": "edc6b9ad-13eb-4279-9638-45fe148e39bf"
      },
      "outputs": [
        {
          "output_type": "stream",
          "name": "stdout",
          "text": [
            "77\n",
            "양수 입니다.\n"
          ]
        }
      ],
      "source": [
        "# x = 10\n",
        "x = int(input())\n",
        "\n",
        "if x > 0 :\n",
        "    print(\"양수 입니다.\")\n",
        "    if x == 10:\n",
        "        print(x)\n",
        "    if x == 5:\n",
        "        pass\n",
        "    # else: 에러 발생\n",
        "    #     pass\n",
        "    elif x %10 == 0:\n",
        "        print(\"10의 배수 입니다\")\n",
        "    else:\n",
        "        pass\n",
        "else:\n",
        "    print(\"양수가 아닙니다\")"
      ]
    },
    {
      "cell_type": "markdown",
      "source": [
        "## 중첩 if 조건문과 논리 연산자"
      ],
      "metadata": {
        "id": "J4VsiyU-HrDs"
      }
    },
    {
      "cell_type": "code",
      "source": [
        "print(x)\n",
        "\n",
        "if x > 0 :\n",
        "    if x < 20 :\n",
        "        print('20보다 작은 양수')"
      ],
      "metadata": {
        "colab": {
          "base_uri": "https://localhost:8080/"
        },
        "id": "UjWbKIjm7S_T",
        "outputId": "45489dde-e63e-424e-df92-6227af1690e8"
      },
      "execution_count": null,
      "outputs": [
        {
          "output_type": "stream",
          "name": "stdout",
          "text": [
            "10\n",
            "20보다 작은 양수\n"
          ]
        }
      ]
    },
    {
      "cell_type": "code",
      "source": [
        "print(x)\n",
        "\n",
        "if x > 0 and x < 20 :\n",
        "    print(\"20보다 작은 양수\")"
      ],
      "metadata": {
        "colab": {
          "base_uri": "https://localhost:8080/"
        },
        "id": "l3oQ4nDRH-FA",
        "outputId": "070f43cb-79d8-411e-b817-cd5635d4396b"
      },
      "execution_count": null,
      "outputs": [
        {
          "output_type": "stream",
          "name": "stdout",
          "text": [
            "10\n",
            "20보다 작은 양수\n"
          ]
        }
      ]
    },
    {
      "cell_type": "code",
      "source": [
        "print(x)\n",
        "\n",
        "if 0 < x < 20:\n",
        "    print(\"20보다 작은 양수\")"
      ],
      "metadata": {
        "colab": {
          "base_uri": "https://localhost:8080/"
        },
        "id": "cp5yPowuIJ4Q",
        "outputId": "6045d42d-3082-4e4a-ca30-890e4e2d5bf7"
      },
      "execution_count": null,
      "outputs": [
        {
          "output_type": "stream",
          "name": "stdout",
          "text": [
            "10\n",
            "20보다 작은 양수\n"
          ]
        }
      ]
    },
    {
      "cell_type": "markdown",
      "source": [
        "# 반복문"
      ],
      "metadata": {
        "id": "0ZJ05v2lKTvZ"
      }
    },
    {
      "cell_type": "markdown",
      "source": [
        "## for문"
      ],
      "metadata": {
        "id": "F76p7jEfSUi7"
      }
    },
    {
      "cell_type": "code",
      "source": [
        "for i in range(10):\n",
        "    print(f\"{i}번째\")"
      ],
      "metadata": {
        "colab": {
          "base_uri": "https://localhost:8080/"
        },
        "id": "tv0m8d2Y7ZBg",
        "outputId": "0fad00a4-e0ba-4e77-966a-8449ca772b7c"
      },
      "execution_count": null,
      "outputs": [
        {
          "output_type": "stream",
          "name": "stdout",
          "text": [
            "0번째\n",
            "1번째\n",
            "2번째\n",
            "3번째\n",
            "4번째\n",
            "5번째\n",
            "6번째\n",
            "7번째\n",
            "8번째\n",
            "9번째\n"
          ]
        }
      ]
    },
    {
      "cell_type": "code",
      "source": [
        "for i in range(5, 10):\n",
        "    print(f\"{i}번째\")"
      ],
      "metadata": {
        "colab": {
          "base_uri": "https://localhost:8080/"
        },
        "id": "X2_lEHRfd0O5",
        "outputId": "025f7fa5-76e4-44e3-eacd-589ae7b84b8e"
      },
      "execution_count": null,
      "outputs": [
        {
          "output_type": "stream",
          "name": "stdout",
          "text": [
            "5번째\n",
            "6번째\n",
            "7번째\n",
            "8번째\n",
            "9번째\n"
          ]
        }
      ]
    },
    {
      "cell_type": "code",
      "source": [
        "for i  in range(2, 15, 3):\n",
        "    print(f\"{i}\")"
      ],
      "metadata": {
        "colab": {
          "base_uri": "https://localhost:8080/"
        },
        "id": "xENipDeQRBni",
        "outputId": "ee31a41f-b406-433b-8f78-da409143a7e9"
      },
      "execution_count": null,
      "outputs": [
        {
          "output_type": "stream",
          "name": "stdout",
          "text": [
            "2\n",
            "5\n",
            "8\n",
            "11\n",
            "14\n"
          ]
        }
      ]
    },
    {
      "cell_type": "code",
      "source": [
        "for i in range(25, 17, -1):\n",
        "    print(f\"{i}\")"
      ],
      "metadata": {
        "colab": {
          "base_uri": "https://localhost:8080/"
        },
        "id": "ggw6AZ5uROVC",
        "outputId": "96941a0d-b820-4c13-ebcb-e7362612b083"
      },
      "execution_count": null,
      "outputs": [
        {
          "output_type": "stream",
          "name": "stdout",
          "text": [
            "25\n",
            "24\n",
            "23\n",
            "22\n",
            "21\n",
            "20\n",
            "19\n",
            "18\n"
          ]
        }
      ]
    },
    {
      "cell_type": "code",
      "source": [
        "for i in reversed(range(7)):\n",
        "    print(i)"
      ],
      "metadata": {
        "colab": {
          "base_uri": "https://localhost:8080/"
        },
        "id": "cxelU0-7RaMb",
        "outputId": "84754d6d-1c8b-41bb-ee0c-200c5362a211"
      },
      "execution_count": null,
      "outputs": [
        {
          "output_type": "stream",
          "name": "stdout",
          "text": [
            "6\n",
            "5\n",
            "4\n",
            "3\n",
            "2\n",
            "1\n",
            "0\n"
          ]
        }
      ]
    },
    {
      "cell_type": "code",
      "source": [
        "count = int(input(\"반복 횟수 입력 : \"))\n",
        "\n",
        "for i in reversed(range(count)):\n",
        "    print(i)"
      ],
      "metadata": {
        "colab": {
          "base_uri": "https://localhost:8080/"
        },
        "id": "ZvHPpOz-RiJa",
        "outputId": "235caba2-7d33-4f65-8d16-0b3b5c25def0"
      },
      "execution_count": null,
      "outputs": [
        {
          "output_type": "stream",
          "name": "stdout",
          "text": [
            "반복 횟수 입력 : 5\n",
            "4\n",
            "3\n",
            "2\n",
            "1\n",
            "0\n"
          ]
        }
      ]
    },
    {
      "cell_type": "code",
      "source": [
        "fruits = ['apple', 'banana', 'grape']\n",
        "\n",
        "for fruit in fruits:\n",
        "    print(fruit)"
      ],
      "metadata": {
        "colab": {
          "base_uri": "https://localhost:8080/"
        },
        "id": "R_w-_13_R3RP",
        "outputId": "517db0ab-ad48-4a28-8a8d-d43ca88a478d"
      },
      "execution_count": null,
      "outputs": [
        {
          "output_type": "stream",
          "name": "stdout",
          "text": [
            "apple\n",
            "banana\n",
            "grape\n"
          ]
        }
      ]
    },
    {
      "cell_type": "code",
      "source": [
        "for letter in 'Python':\n",
        "    print(letter, end='-')"
      ],
      "metadata": {
        "colab": {
          "base_uri": "https://localhost:8080/"
        },
        "id": "nY3YCjhtSES9",
        "outputId": "72a22ba7-bdd1-4ee1-fcac-808166949ebc"
      },
      "execution_count": null,
      "outputs": [
        {
          "output_type": "stream",
          "name": "stdout",
          "text": [
            "P-y-t-h-o-n-"
          ]
        }
      ]
    },
    {
      "cell_type": "markdown",
      "source": [
        "## while문"
      ],
      "metadata": {
        "id": "jZ52ljxhSXHS"
      }
    },
    {
      "cell_type": "code",
      "source": [
        "i = 0 # 초기화\n",
        "while i < 5: # while 조건식\n",
        "    print(i)\n",
        "    i += 1 # 변화식"
      ],
      "metadata": {
        "colab": {
          "base_uri": "https://localhost:8080/"
        },
        "id": "AuXEoo1sSMwl",
        "outputId": "c0432772-abe1-4f4d-92a8-55595fd1714c"
      },
      "execution_count": null,
      "outputs": [
        {
          "output_type": "stream",
          "name": "stdout",
          "text": [
            "0\n",
            "1\n",
            "2\n",
            "3\n",
            "4\n"
          ]
        }
      ]
    },
    {
      "cell_type": "code",
      "source": [
        "i = 5\n",
        "while i > 0:\n",
        "    print(i)\n",
        "    i -= 1"
      ],
      "metadata": {
        "colab": {
          "base_uri": "https://localhost:8080/"
        },
        "id": "ITPByUntShaG",
        "outputId": "b0ce35c9-301c-4bc4-b460-69b62e07fe0c"
      },
      "execution_count": null,
      "outputs": [
        {
          "output_type": "stream",
          "name": "stdout",
          "text": [
            "5\n",
            "4\n",
            "3\n",
            "2\n",
            "1\n"
          ]
        }
      ]
    },
    {
      "cell_type": "markdown",
      "source": [
        "### 난수 생성하여 while 반복문 "
      ],
      "metadata": {
        "id": "TU0fPW4FS9MX"
      }
    },
    {
      "cell_type": "code",
      "source": [
        "import random"
      ],
      "metadata": {
        "id": "MDpgEaSWSy-i"
      },
      "execution_count": null,
      "outputs": []
    },
    {
      "cell_type": "code",
      "source": [
        "random.random()"
      ],
      "metadata": {
        "colab": {
          "base_uri": "https://localhost:8080/"
        },
        "id": "mpWZIXSwTFZO",
        "outputId": "bd0ac934-0a2e-46f9-a185-8ac4850754ee"
      },
      "execution_count": null,
      "outputs": [
        {
          "output_type": "execute_result",
          "data": {
            "text/plain": [
              "0.8044057443923261"
            ]
          },
          "metadata": {},
          "execution_count": 15
        }
      ]
    },
    {
      "cell_type": "code",
      "source": [
        "random.random()"
      ],
      "metadata": {
        "colab": {
          "base_uri": "https://localhost:8080/"
        },
        "id": "TMpo0sK5TIfQ",
        "outputId": "adc83632-ba26-4a10-c20c-9aecc3b4d69e"
      },
      "execution_count": null,
      "outputs": [
        {
          "output_type": "execute_result",
          "data": {
            "text/plain": [
              "0.41583628775637904"
            ]
          },
          "metadata": {},
          "execution_count": 16
        }
      ]
    },
    {
      "cell_type": "code",
      "source": [
        "random.randint(1, 8) # randint : 난수를 생성할 범위를 지정"
      ],
      "metadata": {
        "colab": {
          "base_uri": "https://localhost:8080/"
        },
        "id": "SUMpkMiGTKS4",
        "outputId": "e8c8fa65-ec0c-4229-878a-1ab714bf02cc"
      },
      "execution_count": null,
      "outputs": [
        {
          "output_type": "execute_result",
          "data": {
            "text/plain": [
              "5"
            ]
          },
          "metadata": {},
          "execution_count": 18
        }
      ]
    },
    {
      "cell_type": "code",
      "source": [
        "i = 0\n",
        "while i != 4:\n",
        "    i = random.randint(1, 6)\n",
        "    print(i)"
      ],
      "metadata": {
        "colab": {
          "base_uri": "https://localhost:8080/"
        },
        "id": "8lhHci0wTOP0",
        "outputId": "71ee3031-ba5a-4852-b3e7-2f795bbf405f"
      },
      "execution_count": null,
      "outputs": [
        {
          "output_type": "stream",
          "name": "stdout",
          "text": [
            "1\n",
            "4\n"
          ]
        }
      ]
    },
    {
      "cell_type": "code",
      "source": [
        "# 무한루프\n",
        "# while 1: # True 1 False 0\n",
        "#     print('hello')"
      ],
      "metadata": {
        "id": "vQJ14va7TnVL"
      },
      "execution_count": null,
      "outputs": []
    },
    {
      "cell_type": "markdown",
      "source": [
        "## 반복문 제어(break, continue)"
      ],
      "metadata": {
        "id": "KKCe_CAWUDqm"
      }
    },
    {
      "cell_type": "code",
      "source": [
        "i = 0\n",
        "while True:\n",
        "    print(i)\n",
        "    i += 1\n",
        "    if i == 6:\n",
        "        break # 반복문을 끝내는 방법"
      ],
      "metadata": {
        "colab": {
          "base_uri": "https://localhost:8080/"
        },
        "id": "vTdj9YAzT_Li",
        "outputId": "7ed5f64a-8172-4d9a-90a7-fbc788bb4467"
      },
      "execution_count": null,
      "outputs": [
        {
          "output_type": "stream",
          "name": "stdout",
          "text": [
            "0\n",
            "1\n",
            "2\n",
            "3\n",
            "4\n",
            "5\n"
          ]
        }
      ]
    },
    {
      "cell_type": "code",
      "source": [
        "for i in range(10):\n",
        "    if i % 2 == 0 :\n",
        "        continue # 반복문에서 일부 코드를 실행하지 않고 건너뛰기\n",
        "    print(i)"
      ],
      "metadata": {
        "colab": {
          "base_uri": "https://localhost:8080/"
        },
        "id": "_h9UNmV-UTiq",
        "outputId": "5ec551dd-9218-46ec-eee6-86ce86f93b54"
      },
      "execution_count": null,
      "outputs": [
        {
          "output_type": "stream",
          "name": "stdout",
          "text": [
            "1\n",
            "3\n",
            "5\n",
            "7\n",
            "9\n"
          ]
        }
      ]
    },
    {
      "cell_type": "code",
      "source": [
        "i = 0 \n",
        "while i < 7:\n",
        "    i += 1\n",
        "    if i % 3 == 0:\n",
        "        continue\n",
        "    print(i)"
      ],
      "metadata": {
        "colab": {
          "base_uri": "https://localhost:8080/"
        },
        "id": "LhNJm2tqUlvh",
        "outputId": "bbb0668e-42e1-4b83-bb40-a18409245c97"
      },
      "execution_count": null,
      "outputs": [
        {
          "output_type": "stream",
          "name": "stdout",
          "text": [
            "1\n",
            "2\n",
            "4\n",
            "5\n",
            "7\n"
          ]
        }
      ]
    },
    {
      "cell_type": "code",
      "source": [
        "cnt = int(input(\"반복횟수(1-10) : \"))\n",
        "\n",
        "i = 0\n",
        "while True:\n",
        "    print(i)\n",
        "    i += 1\n",
        "    if i == cnt:\n",
        "        break"
      ],
      "metadata": {
        "colab": {
          "base_uri": "https://localhost:8080/"
        },
        "id": "2nrdhqipU8Q5",
        "outputId": "1136cb61-05df-433a-e790-132beadef263"
      },
      "execution_count": null,
      "outputs": [
        {
          "output_type": "stream",
          "name": "stdout",
          "text": [
            "반복횟수(1-10) : 4\n",
            "0\n",
            "1\n",
            "2\n",
            "3\n"
          ]
        }
      ]
    },
    {
      "cell_type": "code",
      "source": [
        "for i in range(cnt+1):\n",
        "    if i % 2 == 0:\n",
        "        continue\n",
        "    print(i)"
      ],
      "metadata": {
        "colab": {
          "base_uri": "https://localhost:8080/"
        },
        "id": "CDJCT1WDVbMc",
        "outputId": "659fd7f8-bc43-452d-ba19-cf7de955f747"
      },
      "execution_count": null,
      "outputs": [
        {
          "output_type": "stream",
          "name": "stdout",
          "text": [
            "1\n",
            "3\n"
          ]
        }
      ]
    },
    {
      "cell_type": "code",
      "source": [
        ""
      ],
      "metadata": {
        "id": "3BtrMrEeWO9R"
      },
      "execution_count": null,
      "outputs": []
    }
  ]
}
