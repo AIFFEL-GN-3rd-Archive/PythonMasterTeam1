{
  "nbformat": 4,
  "nbformat_minor": 0,
  "metadata": {
    "colab": {
      "name": "코딩 도장 29,30,31,32.ipynb",
      "provenance": [],
      "collapsed_sections": [],
      "authorship_tag": "ABX9TyP7zT/wq+pRwGD1nk1G8yPt",
      "include_colab_link": true
    },
    "kernelspec": {
      "name": "python3",
      "display_name": "Python 3"
    },
    "language_info": {
      "name": "python"
    }
  },
  "cells": [
    {
      "cell_type": "markdown",
      "metadata": {
        "id": "view-in-github",
        "colab_type": "text"
      },
      "source": [
        "<a href=\"https://colab.research.google.com/github/Oh-Ji-Hoon/PythonMasterTeam1/blob/main/%EC%98%A4%EC%A7%80%ED%9B%88%20%EC%BD%94%EB%94%A9_%EB%8F%84%EC%9E%A5_29%2C30%2C31%2C32.ipynb\" target=\"_parent\"><img src=\"https://colab.research.google.com/assets/colab-badge.svg\" alt=\"Open In Colab\"/></a>"
      ]
    },
    {
      "cell_type": "code",
      "source": [
        "!git clone https://github.com/Oh-Ji-Hoon/PythonMasterTeam1.git\n"
      ],
      "metadata": {
        "colab": {
          "base_uri": "https://localhost:8080/"
        },
        "id": "_JQf-8QtXvkU",
        "outputId": "afce2377-9810-4ba9-991d-a8df03ca295e"
      },
      "execution_count": 8,
      "outputs": [
        {
          "output_type": "stream",
          "name": "stdout",
          "text": [
            "Cloning into 'PythonMasterTeam1'...\n",
            "remote: Enumerating objects: 57, done.\u001b[K\n",
            "remote: Counting objects: 100% (57/57), done.\u001b[K\n",
            "remote: Compressing objects: 100% (45/45), done.\u001b[K\n",
            "remote: Total 57 (delta 19), reused 0 (delta 0), pack-reused 0\u001b[K\n",
            "Unpacking objects: 100% (57/57), done.\n"
          ]
        }
      ]
    },
    {
      "cell_type": "markdown",
      "source": [
        "29. 함수\n",
        "\n",
        "함수 사용하면 코드의 용도를 구분할 수 있다.\n",
        "코드 재탕 가능하다.\n",
        "실수 줄일 수 있다.\n",
        "\n",
        "함수는 def에 함수이름을 짓고 ()와 :을 붙인뒤 코드를 쓴다. \n",
        "코드는 들여쓰기를 한다.\n",
        "이때 def는 정의하다의define의 약자이다.\n",
        "\n",
        "함수 이름() 하면 함수 호출할 수 있다.\n",
        "\n",
        "주의!!!\n",
        "\n",
        "함수 만들기 전에 호출하면 안된다.\n",
        "왜냐하면 파이썬은 코드를 위에서 아래로 순차적으로 실행하기 때문이다.\n",
        "그러므로 함수먼저 만들고 함수를 호출해야 한다.\n",
        "\n",
        "def hello():\n",
        "  pass\n",
        "\n",
        "이렇게 하면 속이 빈 함수가 만들어진다.\n",
        "\n",
        "()에 변수이름 넣으면 함수가 값을 받는다.\n",
        "()에 들어간 변수를 매개변수라 한다.\n",
        "함수에 문자열을 넣을 수 있는 독스트링 \"\"\" \"\"\"을 넣을 수 있는데 윗줄에 다른 코드가 오면 안된다.\n",
        "\n",
        "PEP8에선 독스트링을 \"\"\" \"\"\"을 권장한다.\n",
        "\n",
        "print(함수이름.__doc__)은 독스트링 출력, help(함수이름)은 함수 이름, 매개변수, 독스트링을 도움말 형태로 출력한다\n",
        "\n",
        "return은 함수 바깥으로 반환할 수 있고 함수에서 나온 값을 변수에 저장할 수 있다.\n",
        "\n",
        "조건문을 활용하면 특정조건일때 함수 중간에서 빠져 나올 수 있다.\n",
        " 매개 변수 없이 반환값이 1일때 1만 반환하고 빠져나온다.\n",
        "\n",
        " 반환값 2개로 도 지정할 수 있다. 이때 튜플로 반환 된다.\n",
        "\n",
        "스택은 접시 쌓기와 같은데 접시를 차곡차곡 쌓고 꺼낼 때는 위쪽부터 차례대로 꺼내는 방식이다.\n",
        "\n",
        "파이썬은 함수가 아래쪽 방향으로 추가되고 함수가 끝나면 위쪽 방향으로 사라진다.\n",
        "프레임이란 메모리에서 함수와 함수에 속한 변수가 저장되는 독립적인 공간\n",
        "전역 프레임은 파이썬 스크립트 전체에서 접근할 수 있다.\n",
        "\n",
        "30. \n",
        "\n",
        " 함수에 인수를 순서대로 넣는 방식을 위치 인수(positional argument)라고 한다.\n",
        "\n",
        "\n"
      ],
      "metadata": {
        "id": "m5pzxw1q2ERd"
      }
    },
    {
      "cell_type": "code",
      "execution_count": 5,
      "metadata": {
        "colab": {
          "base_uri": "https://localhost:8080/"
        },
        "id": "CW7hJdaTll9l",
        "outputId": "7ecff6cd-9725-41b8-f720-fc6cdfd23def"
      },
      "outputs": [
        {
          "output_type": "stream",
          "name": "stdout",
          "text": [
            "10\n",
            "20\n",
            "30\n"
          ]
        }
      ],
      "source": [
        "def print_num(a, b, c):\n",
        "  print(a)\n",
        "  print(b)\n",
        "  print(c)\n",
        "\n",
        "print_num(10, 20, 30)"
      ]
    },
    {
      "cell_type": "markdown",
      "source": [
        "인수를 순서대로 넣을 때는 리스트나 튜플을 사용할 수 있다.\n",
        "리스트 또는 튜플 앞에 *를 붙여서 함수에 넣어주면 된다.\n",
        "리스트(튜플) 앞에 *를 붙이면 언패킹(unpacking)이 된다.\n",
        "리스트의 포장을 푼다는 뜻이다.\n",
        "함수의 매개변수 개수와 리스트의 요소 개수는 같아야 한다.\n",
        "위치 인수와 리스트 언패킹은 인수의 개수가 정해지지 않은 가변 인수(variable argument)에 사용한다.\n",
        "\n",
        "함수에 키워드 인수를 사용할 수 있는데 딕셔너리의 값:키와 비슷한 키워드, 값 쌍이다.\n",
        "형태는 함수(키워드=값)\n",
        "sep, end인수도 키워드 인수다.\n",
        "\n",
        "딕셔너리 언패킹은 딕셔너리에 '키워드': 값 형식으로 인수를 저장하고, 앞에 **를 붙여서 함수에 넣어준다. 이때 딕셔너리의 키워드(키)는 반드시 문자열 형태라야 한다.\n",
        "매개변수 이름과 개수가 다르면 함수를 호출할 수 없다.\n",
        "\n",
        " *args와 키워드 인수를 받는 **kwargs를 함께 사용할 수도 있다.\n",
        "대표적으로 print함수가 있다.\n",
        "\n",
        "매개 변수에 초깃값을 지정하면 값을 넣더라도 해당 값이 전달된다.\n",
        "매개 변수에 초깃값을 지정하면 인수를 넣지않아도 호출할 수 있다.\n",
        "\n",
        " 31. 재귀함수\n",
        "\n",
        "함수 안에서 함수 자기자신을 호출하는 방식을 재귀호출(recursive call)이라고 한다.\n",
        "\n",
        "파이썬에서는 최대 재귀 깊이(maximum recursion depth)가 1,000으로 정해져 있다.\n",
        "\n",
        "함수가 자기자신을 계속 호출하다가 최대 재귀 깊이를 초과하면 RecursionError가 발생한다.\n",
        "\n",
        "재귀함수의 종료 조건을 충족하면 코드에서 빠져나온다.\n",
        "\n",
        "재귀 함수의 팩토리얼은 재귀 호출을 계속 하다가 비로소 해당 값이 조건에 만족하면 갑승ㄹ 반환하고 재귀 호출을 끝낸다.\n",
        "\n",
        "32. 람다\n",
        "\n",
        "람다 표현식은 식 형태로 되어 있다고 해서 람다 표현식(lambda expression)이라고한다.\n",
        "\n",
        "함수를 간편하게 작성할 수 있어서 다른 함수의 인수로 넣을 때 주로 사용한다.\n",
        " 람다 표현식은 이름 없는 함수를 만든다. 그래서 람다 표현식을 익명함수라고도 한다.\n",
        "\n",
        "람다로 만든 익명함수를 호출 하려면 람다 표현식에 변수를할당하면 된다.\n",
        "\n"
      ],
      "metadata": {
        "id": "1CIsnVt1BXRm"
      }
    },
    {
      "cell_type": "code",
      "source": [
        "plus_ten = lambda x: x + 10 #lambda x: x + 10은 매개변수 x 하나를 받고, x에 10을 더해서 반환한다는 뜻\n",
        "plus_ten(1)\n",
        "\n"
      ],
      "metadata": {
        "colab": {
          "base_uri": "https://localhost:8080/"
        },
        "id": "PVwX-eIvB5p-",
        "outputId": "db5e0394-4f53-4fa4-a04d-054744f9402d"
      },
      "execution_count": 6,
      "outputs": [
        {
          "output_type": "execute_result",
          "data": {
            "text/plain": [
              "11"
            ]
          },
          "metadata": {},
          "execution_count": 6
        }
      ]
    },
    {
      "cell_type": "markdown",
      "source": [
        "매개변수, 연산자, 값 등을 조합한 식으로 반환값을 만드는 방식\n",
        "변수에 할당하지 않고 람다 표현식 자체를 바로 호출할 수 있다.\n",
        "람다 표현식 안에서는 새 변수를 만들 수 없다.\n",
        "반환값 부분은 식 한 줄로 표현할 수 있어야한다.\n",
        "\n",
        "https://dojang.io/mod/page/view.php?id=2359"
      ],
      "metadata": {
        "id": "XL9xuh9dI4sf"
      }
    }
  ]
}